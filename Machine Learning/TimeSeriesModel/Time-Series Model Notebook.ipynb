{
 "cells": [
  {
   "cell_type": "markdown",
   "metadata": {},
   "source": [
    "Video tutorial: https://www.youtube.com/watch?v=S8tpSG6Q2H0 "
   ]
  },
  {
   "cell_type": "markdown",
   "metadata": {},
   "source": [
    "# Load packages and functions"
   ]
  },
  {
   "cell_type": "code",
   "execution_count": 1,
   "metadata": {},
   "outputs": [],
   "source": [
    "import os\n",
    "import datetime\n",
    "import json\n",
    "import numpy as np\n",
    "import pandas as pd \n",
    "import ipywidgets as widgets\n",
    "from ipywidgets import VBox, HBox, interactive, interact\n",
    "from IPython.display import display, HTML, Javascript\n",
    "import base64 \n",
    "import matplotlib.pyplot as plt\n",
    "\n",
    "def fetchDataFromERDDAP(dataset_id, metadata, variable_list, start_date, end_date):\n",
    "    try:\n",
    "        # Set ERDDAP server details\n",
    "        s = 'https://erddap.marine.ie/erddap' #'http://10.11.1.82/erddap'\n",
    "        p = 'tabledap'\n",
    "        r = 'csv'\n",
    "\n",
    "        param = []\n",
    "        \n",
    "        for x in variable_list:\n",
    "            param.append(x)\n",
    "\n",
    "        # Generate parameter component of URL\n",
    "        plist = ''\n",
    "        for item in metadata + param:\n",
    "            plist = plist+item+'%2C'\n",
    "        plist = plist[0:-3]\n",
    "\n",
    "        # Create dataframe for population\n",
    "        df = pd.DataFrame()\n",
    "\n",
    "        # Create ERDDAP url and load data for selected dates  \n",
    "        url = s+\"/\"+p+\"/\"+dataset_id+\".\"+r+\"?\"+plist+\"&time%3E=\"+start_date+\"T00:00:00Z&time%3C\"+end_date+\"T23:59:59Z\"\n",
    "        df= pd.read_csv(url,index_col=[0],header=[0],skiprows=[1],parse_dates=True,infer_datetime_format=True)\n",
    "\n",
    "        #Replace all NaN values with -5\n",
    "        df = df.fillna(0)\n",
    "\n",
    "        return df,url\n",
    "    except Exception as e:\n",
    "        print(e)\n",
    "        \n",
    "def create_download_link(df,Filename,title = \"Download CSV file\"):  \n",
    "    csv = df.to_csv(index = True)\n",
    "    b64 = base64.b64encode(csv.encode())\n",
    "    payload = b64.decode()\n",
    "    html = '<a download=\"{filename}\" href=\"data:text/csv;base64,{payload}\" target=\"_blank\">{title}</a>'\n",
    "    html = html.format(payload=payload,title=title,filename=Filename+'.csv')\n",
    "    display(HTML(html))"
   ]
  },
  {
   "cell_type": "markdown",
   "metadata": {},
   "source": [
    "# Select Dataset"
   ]
  },
  {
   "cell_type": "code",
   "execution_count": 2,
   "metadata": {},
   "outputs": [
    {
     "data": {
      "application/vnd.jupyter.widget-view+json": {
       "model_id": "f8f754c51b8647e0aceb570e3c6f9af4",
       "version_major": 2,
       "version_minor": 0
      },
      "text/plain": [
       "Label(value='Select ERDDAP dataset for which you wish to run the test:')"
      ]
     },
     "metadata": {},
     "output_type": "display_data"
    },
    {
     "data": {
      "application/vnd.jupyter.widget-view+json": {
       "model_id": "f473c39aa18a44cdb55861d0fac65725",
       "version_major": 2,
       "version_minor": 0
      },
      "text/plain": [
       "interactive(children=(Dropdown(description='Dataset', options=('IWBNetwork',), value='IWBNetwork'), Button(des…"
      ]
     },
     "metadata": {},
     "output_type": "display_data"
    }
   ],
   "source": [
    "datsets = ['IWBNetwork']\n",
    "\n",
    "dcaption = widgets.Label(value='Select ERDDAP dataset for which you wish to run the test:')\n",
    "dtype = widgets.Dropdown(options=datsets)\n",
    "\n",
    "def select_dataset(Dataset):\n",
    "    global dataset\n",
    "    dataset = Dataset\n",
    "    print(\"Selected Dataset: \"+dataset)\n",
    "\n",
    "d = interactive(select_dataset,{'manual': True, 'manual_name':'Select'}, Dataset=dtype)\n",
    "display(dcaption,d)"
   ]
  },
  {
   "cell_type": "markdown",
   "metadata": {},
   "source": [
    "# Select parameters"
   ]
  },
  {
   "cell_type": "code",
   "execution_count": 3,
   "metadata": {},
   "outputs": [
    {
     "name": "stdout",
     "output_type": "stream",
     "text": [
      "Data for this dataset is only avaialable from 2001-02-06 to 2021-10-29. Please select appropriately!\n"
     ]
    },
    {
     "data": {
      "application/vnd.jupyter.widget-view+json": {
       "model_id": "2a217e1a38ab4bc199ff953e2953d450",
       "version_major": 2,
       "version_minor": 0
      },
      "text/plain": [
       "interactive(children=(SelectMultiple(description='Columns', index=(2,), options=('AtmosphericPressure', 'AirTe…"
      ]
     },
     "metadata": {},
     "output_type": "display_data"
    }
   ],
   "source": [
    "dataset_id = dataset\n",
    "metadata = ['time', 'station_id']\n",
    "columns = ['AtmosphericPressure','AirTemperature','SeaTemperature','salinity', 'WindSpeed']\n",
    "default_start_date = datetime.datetime.strptime('2001-02-06', \"%Y-%m-%d\").date() \n",
    "default_end_date = datetime.date.today()\n",
    "\n",
    "print(\"Data for this dataset is only avaialable from \"+str(default_start_date)+\" to \"+str(default_end_date)+ \". Please select appropriately!\")\n",
    "    \n",
    "def load_data(v,sd,ed):\n",
    "    try:\n",
    "        global data_full\n",
    "        global variable_name\n",
    "        global start_date\n",
    "        global end_date\n",
    "        variable_list = v\n",
    "        if  (default_start_date <= sd <= default_end_date) and (default_start_date <= ed <= default_end_date):\n",
    "            start_date = str(sd)\n",
    "            end_date = str(ed)\n",
    "            data_full,url = fetchDataFromERDDAP(dataset_id, metadata, variable_list, start_date, end_date)\n",
    "            print(\"Data Loaded!\")\n",
    "            print(\"If you wish to download raw dataset as csv file, please click below link:\")\n",
    "            #display(HTML(\"<a href=\"+url+\">Download</a>\"))\n",
    "            datasetFilename = dataset_id+'_'+start_date+'_'+end_date\n",
    "            create_download_link(data_full, datasetFilename)\n",
    "        else:\n",
    "            raise TypeError(\"Please select dates within above mentioned date range!\")\n",
    "    except Exception as e:\n",
    "        print(e)\n",
    "\n",
    "# Parameter Widgets\n",
    "## Variable\n",
    "#vtype = widgets.checkbox(options = columns, description='Variable:')\n",
    "vtype = widgets.SelectMultiple(\n",
    "    options=columns,\n",
    "    value=['SeaTemperature'],\n",
    "    #rows=10,\n",
    "    description='Columns',\n",
    "    disabled=False\n",
    ")\n",
    "## Start-End Dates\n",
    "\n",
    "start_date = default_end_date - datetime.timedelta(days=183)\n",
    "\n",
    "sdtype = widgets.DatePicker(\n",
    "    description='Start Date',\n",
    "    disabled=False,\n",
    "    value = start_date\n",
    ")\n",
    "edtype = widgets.DatePicker(\n",
    "    description='End Date',\n",
    "    disabled=False,\n",
    "    value = default_end_date\n",
    ")\n",
    "\n",
    "interactive(load_data,{'manual': True, 'manual_name':'Load'}, v=vtype,sd=sdtype,ed=edtype)"
   ]
  },
  {
   "cell_type": "markdown",
   "metadata": {},
   "source": [
    "# Select Station"
   ]
  },
  {
   "cell_type": "code",
   "execution_count": 7,
   "metadata": {},
   "outputs": [
    {
     "data": {
      "application/vnd.jupyter.widget-view+json": {
       "model_id": "05e98f4af7b14457883e3e88308cfcb5",
       "version_major": 2,
       "version_minor": 0
      },
      "text/plain": [
       "Label(value='Select station to use:')"
      ]
     },
     "metadata": {},
     "output_type": "display_data"
    },
    {
     "data": {
      "application/vnd.jupyter.widget-view+json": {
       "model_id": "55fb3b26f69245d1aebfbdb1cc00be91",
       "version_major": 2,
       "version_minor": 0
      },
      "text/plain": [
       "interactive(children=(Dropdown(description='Station', options=('M4', 'M5', 'M2', 'M6', 'M3'), value='M4'), But…"
      ]
     },
     "metadata": {},
     "output_type": "display_data"
    }
   ],
   "source": [
    "station_list = data_full.station_id.unique()\n",
    "scaption = widgets.Label(value='Select station to use:')\n",
    "stype = widgets.Dropdown(\n",
    "    options=station_list,\n",
    "    disabled=False,\n",
    ")\n",
    "\n",
    "def select_station(Station):\n",
    "    global station\n",
    "    station = Station\n",
    "    print(\"Selected Station: \"+station)\n",
    "\n",
    "s = interactive(select_station,{'manual': True, 'manual_name':'Select'}, Station=stype)\n",
    "display(scaption,s)"
   ]
  },
  {
   "cell_type": "code",
   "execution_count": 8,
   "metadata": {},
   "outputs": [
    {
     "data": {
      "text/html": [
       "<div>\n",
       "<style scoped>\n",
       "    .dataframe tbody tr th:only-of-type {\n",
       "        vertical-align: middle;\n",
       "    }\n",
       "\n",
       "    .dataframe tbody tr th {\n",
       "        vertical-align: top;\n",
       "    }\n",
       "\n",
       "    .dataframe thead th {\n",
       "        text-align: right;\n",
       "    }\n",
       "</style>\n",
       "<table border=\"1\" class=\"dataframe\">\n",
       "  <thead>\n",
       "    <tr style=\"text-align: right;\">\n",
       "      <th></th>\n",
       "      <th>SeaTemperature</th>\n",
       "    </tr>\n",
       "    <tr>\n",
       "      <th>time</th>\n",
       "      <th></th>\n",
       "    </tr>\n",
       "  </thead>\n",
       "  <tbody>\n",
       "    <tr>\n",
       "      <th>2021-10-22 00:00:00</th>\n",
       "      <td>13.209</td>\n",
       "    </tr>\n",
       "    <tr>\n",
       "      <th>2021-10-22 01:00:00</th>\n",
       "      <td>13.112</td>\n",
       "    </tr>\n",
       "    <tr>\n",
       "      <th>2021-10-22 02:00:00</th>\n",
       "      <td>13.138</td>\n",
       "    </tr>\n",
       "    <tr>\n",
       "      <th>2021-10-22 03:00:00</th>\n",
       "      <td>13.103</td>\n",
       "    </tr>\n",
       "    <tr>\n",
       "      <th>2021-10-22 04:00:00</th>\n",
       "      <td>13.059</td>\n",
       "    </tr>\n",
       "    <tr>\n",
       "      <th>2021-10-22 05:00:00</th>\n",
       "      <td>13.077</td>\n",
       "    </tr>\n",
       "    <tr>\n",
       "      <th>2021-10-22 06:00:00</th>\n",
       "      <td>13.065</td>\n",
       "    </tr>\n",
       "    <tr>\n",
       "      <th>2021-10-22 07:00:00</th>\n",
       "      <td>13.079</td>\n",
       "    </tr>\n",
       "    <tr>\n",
       "      <th>2021-10-22 08:00:00</th>\n",
       "      <td>13.076</td>\n",
       "    </tr>\n",
       "    <tr>\n",
       "      <th>2021-10-22 09:00:00</th>\n",
       "      <td>13.130</td>\n",
       "    </tr>\n",
       "  </tbody>\n",
       "</table>\n",
       "</div>"
      ],
      "text/plain": [
       "                     SeaTemperature\n",
       "time                               \n",
       "2021-10-22 00:00:00          13.209\n",
       "2021-10-22 01:00:00          13.112\n",
       "2021-10-22 02:00:00          13.138\n",
       "2021-10-22 03:00:00          13.103\n",
       "2021-10-22 04:00:00          13.059\n",
       "2021-10-22 05:00:00          13.077\n",
       "2021-10-22 06:00:00          13.065\n",
       "2021-10-22 07:00:00          13.079\n",
       "2021-10-22 08:00:00          13.076\n",
       "2021-10-22 09:00:00          13.130"
      ]
     },
     "execution_count": 8,
     "metadata": {},
     "output_type": "execute_result"
    }
   ],
   "source": [
    "# Dataframe to you use is called 'df'.\n",
    "df = data_full.loc[data_full['station_id'] == station]\n",
    "# Omitting 'station_id' column from dataset\n",
    "df = df[['SeaTemperature']]\n",
    "df.head(10)"
   ]
  },
  {
   "cell_type": "code",
   "execution_count": 9,
   "metadata": {
    "scrolled": true
   },
   "outputs": [
    {
     "data": {
      "image/png": "[encoded data removed]",
      "text/plain": [
       "<Figure size 432x288 with 1 Axes>"
      ]
     },
     "metadata": {
      "needs_background": "light"
     },
     "output_type": "display_data"
    }
   ],
   "source": [
    "# Visualize\n",
    "plt.title('Temperature Plot', size=20)\n",
    "plt.plot(df);"
   ]
  },
  {
   "cell_type": "markdown",
   "metadata": {},
   "source": [
    "# Train and Test split"
   ]
  },
  {
   "cell_type": "code",
   "execution_count": 10,
   "metadata": {},
   "outputs": [
    {
     "data": {
      "image/png": "[encoded data removed]",
      "text/plain": [
       "<Figure size 432x288 with 1 Axes>"
      ]
     },
     "metadata": {
      "needs_background": "light"
     },
     "output_type": "display_data"
    }
   ],
   "source": [
    "# Splitting the dataset into training and test sets \n",
    "# To begin with we will use 7 days worth data for test\n",
    "# Since the resolution of the data is hourly, we will calculate the test set size based on that\n",
    "no_of_days = 1\n",
    "resolution = 24\n",
    "test_size = no_of_days*resolution \n",
    "\n",
    "# Going forward we will use 'df_train' to train the model and 'df_test' to test the accuracy\n",
    "df_train = df[:-test_size]\n",
    "df_test = df[-test_size:]\n",
    "\n",
    "plt.title('Temperature data train and test sets', size=20)\n",
    "plt.plot(df_train, label='Training set')\n",
    "plt.plot(df_test, label='Test set', color='orange')\n",
    "plt.legend();"
   ]
  },
  {
   "cell_type": "markdown",
   "metadata": {},
   "source": [
    "# Scale Data"
   ]
  },
  {
   "cell_type": "code",
   "execution_count": 11,
   "metadata": {},
   "outputs": [],
   "source": [
    "from sklearn.preprocessing import MinMaxScaler\n",
    "scaler = MinMaxScaler()\n",
    "\n",
    "scaler.fit(df_train)\n",
    "scaled_train = scaler.transform(df_train)\n",
    "scaled_test = scaler.transform(df_test)"
   ]
  },
  {
   "cell_type": "markdown",
   "metadata": {},
   "source": [
    "# RNN Model"
   ]
  },
  {
   "cell_type": "code",
   "execution_count": 12,
   "metadata": {},
   "outputs": [],
   "source": [
    "from keras.preprocessing.sequence import TimeseriesGenerator"
   ]
  },
  {
   "cell_type": "code",
   "execution_count": 13,
   "metadata": {},
   "outputs": [],
   "source": [
    "# define generator\n",
    "n_input = 12\n",
    "n_features = 1\n",
    "generator = TimeseriesGenerator(scaled_train,scaled_train,length=n_input,batch_size=1)"
   ]
  },
  {
   "cell_type": "code",
   "execution_count": 14,
   "metadata": {},
   "outputs": [
    {
     "name": "stdout",
     "output_type": "stream",
     "text": [
      "[0.91008772 0.69736842 0.75438596 0.67763158 0.58114035 0.62061404\n",
      " 0.59429825 0.625      0.61842105 0.73684211 0.85745614 0.91447368]\n",
      "[[0.9627193]]\n"
     ]
    }
   ],
   "source": [
    "X,y=generator[0]\n",
    "print(X.flatten())\n",
    "print(y)"
   ]
  },
  {
   "cell_type": "code",
   "execution_count": 15,
   "metadata": {},
   "outputs": [],
   "source": [
    "from keras.models import Sequential\n",
    "from keras.layers import Dense\n",
    "from keras.layers import LSTM"
   ]
  },
  {
   "cell_type": "code",
   "execution_count": 16,
   "metadata": {},
   "outputs": [],
   "source": [
    "# define Model\n",
    "model = Sequential()\n",
    "model.add(LSTM(100,activation='relu',input_shape=(n_input,n_features)))\n",
    "model.add(Dense(1))\n",
    "model.compile(optimizer='adam', loss = 'mse')"
   ]
  },
  {
   "cell_type": "code",
   "execution_count": 17,
   "metadata": {},
   "outputs": [
    {
     "name": "stdout",
     "output_type": "stream",
     "text": [
      "Model: \"sequential\"\n",
      "_________________________________________________________________\n",
      "Layer (type)                 Output Shape              Param #   \n",
      "=================================================================\n",
      "lstm (LSTM)                  (None, 100)               40800     \n",
      "_________________________________________________________________\n",
      "dense (Dense)                (None, 1)                 101       \n",
      "=================================================================\n",
      "Total params: 40,901\n",
      "Trainable params: 40,901\n",
      "Non-trainable params: 0\n",
      "_________________________________________________________________\n"
     ]
    }
   ],
   "source": [
    "model.summary()"
   ]
  },
  {
   "cell_type": "code",
   "execution_count": 18,
   "metadata": {},
   "outputs": [
    {
     "name": "stdout",
     "output_type": "stream",
     "text": [
      "Epoch 1/50\n",
      "142/142 [==============================] - 1s 3ms/step - loss: 0.0331\n",
      "Epoch 2/50\n",
      "142/142 [==============================] - 0s 3ms/step - loss: 0.0136\n",
      "Epoch 3/50\n",
      "142/142 [==============================] - 0s 3ms/step - loss: 0.0115\n",
      "Epoch 4/50\n",
      "142/142 [==============================] - 0s 3ms/step - loss: 0.0115\n",
      "Epoch 5/50\n",
      "142/142 [==============================] - 0s 3ms/step - loss: 0.0105\n",
      "Epoch 6/50\n",
      "142/142 [==============================] - 0s 3ms/step - loss: 0.0108\n",
      "Epoch 7/50\n",
      "142/142 [==============================] - 0s 3ms/step - loss: 0.0084\n",
      "Epoch 8/50\n",
      "142/142 [==============================] - 0s 3ms/step - loss: 0.0087\n",
      "Epoch 9/50\n",
      "142/142 [==============================] - 0s 3ms/step - loss: 0.0075\n",
      "Epoch 10/50\n",
      "142/142 [==============================] - 0s 3ms/step - loss: 0.0076\n",
      "Epoch 11/50\n",
      "142/142 [==============================] - 0s 3ms/step - loss: 0.0076\n",
      "Epoch 12/50\n",
      "142/142 [==============================] - 0s 3ms/step - loss: 0.0065\n",
      "Epoch 13/50\n",
      "142/142 [==============================] - 0s 3ms/step - loss: 0.0060\n",
      "Epoch 14/50\n",
      "142/142 [==============================] - 0s 3ms/step - loss: 0.0048\n",
      "Epoch 15/50\n",
      "142/142 [==============================] - 0s 3ms/step - loss: 0.0056\n",
      "Epoch 16/50\n",
      "142/142 [==============================] - 0s 3ms/step - loss: 0.0055\n",
      "Epoch 17/50\n",
      "142/142 [==============================] - 0s 3ms/step - loss: 0.0045\n",
      "Epoch 18/50\n",
      "142/142 [==============================] - 0s 3ms/step - loss: 0.0052\n",
      "Epoch 19/50\n",
      "142/142 [==============================] - 0s 3ms/step - loss: 0.0043\n",
      "Epoch 20/50\n",
      "142/142 [==============================] - 0s 3ms/step - loss: 0.0042\n",
      "Epoch 21/50\n",
      "142/142 [==============================] - 0s 3ms/step - loss: 0.0039\n",
      "Epoch 22/50\n",
      "142/142 [==============================] - 0s 3ms/step - loss: 0.0038\n",
      "Epoch 23/50\n",
      "142/142 [==============================] - 0s 3ms/step - loss: 0.0037\n",
      "Epoch 24/50\n",
      "142/142 [==============================] - 0s 3ms/step - loss: 0.0033\n",
      "Epoch 25/50\n",
      "142/142 [==============================] - 0s 3ms/step - loss: 0.0034\n",
      "Epoch 26/50\n",
      "142/142 [==============================] - 1s 4ms/step - loss: 0.0037\n",
      "Epoch 27/50\n",
      "142/142 [==============================] - 0s 3ms/step - loss: 0.0038\n",
      "Epoch 28/50\n",
      "142/142 [==============================] - 0s 3ms/step - loss: 0.0032\n",
      "Epoch 29/50\n",
      "142/142 [==============================] - 0s 3ms/step - loss: 0.0032\n",
      "Epoch 30/50\n",
      "142/142 [==============================] - 0s 3ms/step - loss: 0.0031\n",
      "Epoch 31/50\n",
      "142/142 [==============================] - 0s 3ms/step - loss: 0.0028\n",
      "Epoch 32/50\n",
      "142/142 [==============================] - 0s 3ms/step - loss: 0.0029\n",
      "Epoch 33/50\n",
      "142/142 [==============================] - 0s 3ms/step - loss: 0.0031\n",
      "Epoch 34/50\n",
      "142/142 [==============================] - 0s 3ms/step - loss: 0.0033\n",
      "Epoch 35/50\n",
      "142/142 [==============================] - 0s 3ms/step - loss: 0.0028\n",
      "Epoch 36/50\n",
      "142/142 [==============================] - 0s 3ms/step - loss: 0.0029\n",
      "Epoch 37/50\n",
      "142/142 [==============================] - 0s 3ms/step - loss: 0.0029\n",
      "Epoch 38/50\n",
      "142/142 [==============================] - 0s 3ms/step - loss: 0.0027\n",
      "Epoch 39/50\n",
      "142/142 [==============================] - 1s 4ms/step - loss: 0.0027\n",
      "Epoch 40/50\n",
      "142/142 [==============================] - 0s 3ms/step - loss: 0.0026\n",
      "Epoch 41/50\n",
      "142/142 [==============================] - 0s 3ms/step - loss: 0.0028\n",
      "Epoch 42/50\n",
      "142/142 [==============================] - 1s 4ms/step - loss: 0.0024\n",
      "Epoch 43/50\n",
      "142/142 [==============================] - 0s 3ms/step - loss: 0.0027\n",
      "Epoch 44/50\n",
      "142/142 [==============================] - 0s 3ms/step - loss: 0.0026\n",
      "Epoch 45/50\n",
      "142/142 [==============================] - 0s 3ms/step - loss: 0.0026\n",
      "Epoch 46/50\n",
      "142/142 [==============================] - 0s 3ms/step - loss: 0.0028\n",
      "Epoch 47/50\n",
      "142/142 [==============================] - 0s 3ms/step - loss: 0.0025\n",
      "Epoch 48/50\n",
      "142/142 [==============================] - 0s 3ms/step - loss: 0.0027\n",
      "Epoch 49/50\n",
      "142/142 [==============================] - 0s 3ms/step - loss: 0.0023\n",
      "Epoch 50/50\n",
      "142/142 [==============================] - 0s 3ms/step - loss: 0.0029\n"
     ]
    },
    {
     "data": {
      "text/plain": [
       "<keras.callbacks.History at 0x219680ef880>"
      ]
     },
     "execution_count": 18,
     "metadata": {},
     "output_type": "execute_result"
    }
   ],
   "source": [
    "# fit model\n",
    "model.fit(generator,epochs=50)"
   ]
  },
  {
   "cell_type": "code",
   "execution_count": 19,
   "metadata": {},
   "outputs": [
    {
     "data": {
      "text/plain": [
       "[<matplotlib.lines.Line2D at 0x219725bbd90>]"
      ]
     },
     "execution_count": 19,
     "metadata": {},
     "output_type": "execute_result"
    },
    {
     "data": {
      "image/png": "[encoded data removed]",
      "text/plain": [
       "<Figure size 432x288 with 1 Axes>"
      ]
     },
     "metadata": {
      "needs_background": "light"
     },
     "output_type": "display_data"
    }
   ],
   "source": [
    "loss_per_epoch = model.history.history['loss']\n",
    "plt.plot(range(len(loss_per_epoch)),loss_per_epoch)"
   ]
  },
  {
   "cell_type": "code",
   "execution_count": 20,
   "metadata": {},
   "outputs": [],
   "source": [
    "last_train_batch = scaled_train[-12:]\n",
    "last_train_batch = last_train_batch.reshape((1,n_input,n_features))"
   ]
  },
  {
   "cell_type": "code",
   "execution_count": 21,
   "metadata": {},
   "outputs": [
    {
     "data": {
      "text/plain": [
       "array([[0.15530328]], dtype=float32)"
      ]
     },
     "execution_count": 21,
     "metadata": {},
     "output_type": "execute_result"
    }
   ],
   "source": [
    "model.predict(last_train_batch)"
   ]
  },
  {
   "cell_type": "code",
   "execution_count": 22,
   "metadata": {},
   "outputs": [
    {
     "data": {
      "text/plain": [
       "array([0.11184211])"
      ]
     },
     "execution_count": 22,
     "metadata": {},
     "output_type": "execute_result"
    }
   ],
   "source": [
    "scaled_test[0]"
   ]
  },
  {
   "cell_type": "code",
   "execution_count": 23,
   "metadata": {},
   "outputs": [],
   "source": [
    "test_predictions = []\n",
    "\n",
    "first_eval_batch = scaled_train[-n_input:]\n",
    "current_batch = first_eval_batch.reshape((1,n_input,n_features))\n",
    "\n",
    "for i in range(len(df_test)):\n",
    "    \n",
    "    # get the prediction value for the first batch\n",
    "    current_pred = model.predict(current_batch)[0]\n",
    "    \n",
    "    # append the prediction into the array\n",
    "    test_predictions.append(current_pred) \n",
    "    \n",
    "    # use the prediction to update the batch and remove the first value\n",
    "    current_batch = np.append(current_batch[:,1:,:],[[current_pred]],axis=1)"
   ]
  },
  {
   "cell_type": "code",
   "execution_count": 24,
   "metadata": {},
   "outputs": [
    {
     "data": {
      "text/plain": [
       "[array([0.15530328], dtype=float32),\n",
       " array([0.15446162], dtype=float32),\n",
       " array([0.15315056], dtype=float32),\n",
       " array([0.15143463], dtype=float32),\n",
       " array([0.14959109], dtype=float32),\n",
       " array([0.14763372], dtype=float32),\n",
       " array([0.14568375], dtype=float32),\n",
       " array([0.14397962], dtype=float32),\n",
       " array([0.14268002], dtype=float32),\n",
       " array([0.14130282], dtype=float32),\n",
       " array([0.13978758], dtype=float32),\n",
       " array([0.13805881], dtype=float32),\n",
       " array([0.13637793], dtype=float32),\n",
       " array([0.13466015], dtype=float32),\n",
       " array([0.13292071], dtype=float32),\n",
       " array([0.13117725], dtype=float32),\n",
       " array([0.12946059], dtype=float32),\n",
       " array([0.12776196], dtype=float32),\n",
       " array([0.12607159], dtype=float32),\n",
       " array([0.12438201], dtype=float32),\n",
       " array([0.12268985], dtype=float32),\n",
       " array([0.12099965], dtype=float32),\n",
       " array([0.11931372], dtype=float32),\n",
       " array([0.11767859], dtype=float32)]"
      ]
     },
     "execution_count": 24,
     "metadata": {},
     "output_type": "execute_result"
    }
   ],
   "source": [
    "test_predictions"
   ]
  },
  {
   "cell_type": "code",
   "execution_count": 25,
   "metadata": {},
   "outputs": [],
   "source": [
    "true_predictions = scaler.inverse_transform(test_predictions)"
   ]
  },
  {
   "cell_type": "code",
   "execution_count": 26,
   "metadata": {},
   "outputs": [
    {
     "name": "stderr",
     "output_type": "stream",
     "text": [
      "<ipython-input-26-bc5963917119>:1: SettingWithCopyWarning: \n",
      "A value is trying to be set on a copy of a slice from a DataFrame.\n",
      "Try using .loc[row_indexer,col_indexer] = value instead\n",
      "\n",
      "See the caveats in the documentation: https://pandas.pydata.org/pandas-docs/stable/user_guide/indexing.html#returning-a-view-versus-a-copy\n",
      "  df_test['Predictions'] = true_predictions\n"
     ]
    }
   ],
   "source": [
    "df_test['Predictions'] = true_predictions"
   ]
  },
  {
   "cell_type": "code",
   "execution_count": 27,
   "metadata": {},
   "outputs": [
    {
     "data": {
      "text/html": [
       "<div>\n",
       "<style scoped>\n",
       "    .dataframe tbody tr th:only-of-type {\n",
       "        vertical-align: middle;\n",
       "    }\n",
       "\n",
       "    .dataframe tbody tr th {\n",
       "        vertical-align: top;\n",
       "    }\n",
       "\n",
       "    .dataframe thead th {\n",
       "        text-align: right;\n",
       "    }\n",
       "</style>\n",
       "<table border=\"1\" class=\"dataframe\">\n",
       "  <thead>\n",
       "    <tr style=\"text-align: right;\">\n",
       "      <th></th>\n",
       "      <th>SeaTemperature</th>\n",
       "      <th>Predictions</th>\n",
       "    </tr>\n",
       "    <tr>\n",
       "      <th>time</th>\n",
       "      <th></th>\n",
       "      <th></th>\n",
       "    </tr>\n",
       "  </thead>\n",
       "  <tbody>\n",
       "    <tr>\n",
       "      <th>2021-10-28 10:00:00</th>\n",
       "      <td>12.845</td>\n",
       "      <td>12.864818</td>\n",
       "    </tr>\n",
       "    <tr>\n",
       "      <th>2021-10-28 11:00:00</th>\n",
       "      <td>12.863</td>\n",
       "      <td>12.864434</td>\n",
       "    </tr>\n",
       "    <tr>\n",
       "      <th>2021-10-28 12:00:00</th>\n",
       "      <td>12.858</td>\n",
       "      <td>12.863837</td>\n",
       "    </tr>\n",
       "    <tr>\n",
       "      <th>2021-10-28 13:00:00</th>\n",
       "      <td>12.892</td>\n",
       "      <td>12.863054</td>\n",
       "    </tr>\n",
       "    <tr>\n",
       "      <th>2021-10-28 14:00:00</th>\n",
       "      <td>12.914</td>\n",
       "      <td>12.862214</td>\n",
       "    </tr>\n",
       "    <tr>\n",
       "      <th>2021-10-28 15:00:00</th>\n",
       "      <td>12.916</td>\n",
       "      <td>12.861321</td>\n",
       "    </tr>\n",
       "    <tr>\n",
       "      <th>2021-10-28 16:00:00</th>\n",
       "      <td>12.839</td>\n",
       "      <td>12.860432</td>\n",
       "    </tr>\n",
       "    <tr>\n",
       "      <th>2021-10-28 17:00:00</th>\n",
       "      <td>12.830</td>\n",
       "      <td>12.859655</td>\n",
       "    </tr>\n",
       "    <tr>\n",
       "      <th>2021-10-28 18:00:00</th>\n",
       "      <td>12.825</td>\n",
       "      <td>12.859062</td>\n",
       "    </tr>\n",
       "    <tr>\n",
       "      <th>2021-10-28 19:00:00</th>\n",
       "      <td>12.819</td>\n",
       "      <td>12.858434</td>\n",
       "    </tr>\n",
       "    <tr>\n",
       "      <th>2021-10-28 20:00:00</th>\n",
       "      <td>12.812</td>\n",
       "      <td>12.857743</td>\n",
       "    </tr>\n",
       "    <tr>\n",
       "      <th>2021-10-28 21:00:00</th>\n",
       "      <td>12.812</td>\n",
       "      <td>12.856955</td>\n",
       "    </tr>\n",
       "    <tr>\n",
       "      <th>2021-10-28 22:00:00</th>\n",
       "      <td>12.803</td>\n",
       "      <td>12.856188</td>\n",
       "    </tr>\n",
       "    <tr>\n",
       "      <th>2021-10-28 23:00:00</th>\n",
       "      <td>12.806</td>\n",
       "      <td>12.855405</td>\n",
       "    </tr>\n",
       "    <tr>\n",
       "      <th>2021-10-29 00:00:00</th>\n",
       "      <td>12.801</td>\n",
       "      <td>12.854612</td>\n",
       "    </tr>\n",
       "    <tr>\n",
       "      <th>2021-10-29 01:00:00</th>\n",
       "      <td>12.803</td>\n",
       "      <td>12.853817</td>\n",
       "    </tr>\n",
       "    <tr>\n",
       "      <th>2021-10-29 02:00:00</th>\n",
       "      <td>12.801</td>\n",
       "      <td>12.853034</td>\n",
       "    </tr>\n",
       "    <tr>\n",
       "      <th>2021-10-29 03:00:00</th>\n",
       "      <td>12.803</td>\n",
       "      <td>12.852259</td>\n",
       "    </tr>\n",
       "    <tr>\n",
       "      <th>2021-10-29 04:00:00</th>\n",
       "      <td>12.808</td>\n",
       "      <td>12.851489</td>\n",
       "    </tr>\n",
       "    <tr>\n",
       "      <th>2021-10-29 05:00:00</th>\n",
       "      <td>12.806</td>\n",
       "      <td>12.850718</td>\n",
       "    </tr>\n",
       "    <tr>\n",
       "      <th>2021-10-29 06:00:00</th>\n",
       "      <td>12.794</td>\n",
       "      <td>12.849947</td>\n",
       "    </tr>\n",
       "    <tr>\n",
       "      <th>2021-10-29 07:00:00</th>\n",
       "      <td>12.784</td>\n",
       "      <td>12.849176</td>\n",
       "    </tr>\n",
       "    <tr>\n",
       "      <th>2021-10-29 08:00:00</th>\n",
       "      <td>12.779</td>\n",
       "      <td>12.848407</td>\n",
       "    </tr>\n",
       "    <tr>\n",
       "      <th>2021-10-29 09:00:00</th>\n",
       "      <td>12.779</td>\n",
       "      <td>12.847661</td>\n",
       "    </tr>\n",
       "  </tbody>\n",
       "</table>\n",
       "</div>"
      ],
      "text/plain": [
       "                     SeaTemperature  Predictions\n",
       "time                                            \n",
       "2021-10-28 10:00:00          12.845    12.864818\n",
       "2021-10-28 11:00:00          12.863    12.864434\n",
       "2021-10-28 12:00:00          12.858    12.863837\n",
       "2021-10-28 13:00:00          12.892    12.863054\n",
       "2021-10-28 14:00:00          12.914    12.862214\n",
       "2021-10-28 15:00:00          12.916    12.861321\n",
       "2021-10-28 16:00:00          12.839    12.860432\n",
       "2021-10-28 17:00:00          12.830    12.859655\n",
       "2021-10-28 18:00:00          12.825    12.859062\n",
       "2021-10-28 19:00:00          12.819    12.858434\n",
       "2021-10-28 20:00:00          12.812    12.857743\n",
       "2021-10-28 21:00:00          12.812    12.856955\n",
       "2021-10-28 22:00:00          12.803    12.856188\n",
       "2021-10-28 23:00:00          12.806    12.855405\n",
       "2021-10-29 00:00:00          12.801    12.854612\n",
       "2021-10-29 01:00:00          12.803    12.853817\n",
       "2021-10-29 02:00:00          12.801    12.853034\n",
       "2021-10-29 03:00:00          12.803    12.852259\n",
       "2021-10-29 04:00:00          12.808    12.851489\n",
       "2021-10-29 05:00:00          12.806    12.850718\n",
       "2021-10-29 06:00:00          12.794    12.849947\n",
       "2021-10-29 07:00:00          12.784    12.849176\n",
       "2021-10-29 08:00:00          12.779    12.848407\n",
       "2021-10-29 09:00:00          12.779    12.847661"
      ]
     },
     "execution_count": 27,
     "metadata": {},
     "output_type": "execute_result"
    }
   ],
   "source": [
    "df_test"
   ]
  },
  {
   "cell_type": "code",
   "execution_count": 33,
   "metadata": {},
   "outputs": [
    {
     "data": {
      "text/plain": [
       "<AxesSubplot:xlabel='time'>"
      ]
     },
     "execution_count": 33,
     "metadata": {},
     "output_type": "execute_result"
    },
    {
     "data": {
      "image/png": "[encoded data removed]",
      "text/plain": [
       "<Figure size 1008x360 with 1 Axes>"
      ]
     },
     "metadata": {
      "needs_background": "light"
     },
     "output_type": "display_data"
    }
   ],
   "source": [
    "df_test.plot(figsize=(14,5), ylim=(10,15))"
   ]
  }
 ],
 "metadata": {
  "kernelspec": {
   "display_name": "Python 3",
   "language": "python",
   "name": "python3"
  },
  "language_info": {
   "codemirror_mode": {
    "name": "ipython",
    "version": 3
   },
   "file_extension": ".py",
   "mimetype": "text/x-python",
   "name": "python",
   "nbconvert_exporter": "python",
   "pygments_lexer": "ipython3",
   "version": "3.8.5"
  }
 },
 "nbformat": 4,
 "nbformat_minor": 4
}
